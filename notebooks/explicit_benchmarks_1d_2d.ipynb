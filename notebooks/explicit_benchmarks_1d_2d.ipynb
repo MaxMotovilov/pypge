{
 "cells": [
  {
   "cell_type": "code",
   "execution_count": null,
   "metadata": {
    "collapsed": false
   },
   "outputs": [],
   "source": [
    "from pypge.search import PGE\n",
    "import pypge.expand\n",
    "from pypge.benchmarks import explicit\n",
    "\n",
    "\n",
    "# visualization libraries\n",
    "import matplotlib.pyplot as plt\n",
    "from mpl_toolkits.mplot3d import Axes3D\n",
    "\n",
    "# plot the visuals in ipython\n",
    "%matplotlib inline\n",
    "\n",
    "# fun\n",
    "# _ = plt.xkcd()\n",
    "\n"
   ]
  },
  {
   "cell_type": "code",
   "execution_count": null,
   "metadata": {
    "collapsed": false
   },
   "outputs": [],
   "source": [
    "prob = explicit.Koza_1(0.1)\n",
    "print prob['name'], prob['eqn']\n",
    "plt.plot(prob['xpts'][0], prob['ypure'], 'r.')\n",
    "plt.show()\n",
    "\n",
    "plt.plot(prob['xpts'][0], prob['ypts'], 'b.')\n",
    "plt.show()"
   ]
  },
  {
   "cell_type": "code",
   "execution_count": null,
   "metadata": {
    "collapsed": false
   },
   "outputs": [],
   "source": [
    "prob = explicit.Koza_2(0.1)\n",
    "print prob['name'], prob['eqn']\n",
    "plt.plot(prob['xpts'][0], prob['ypure'], 'r.')\n",
    "plt.show()\n",
    "\n",
    "plt.plot(prob['xpts'][0], prob['ypts'], 'b.')\n",
    "plt.show()"
   ]
  },
  {
   "cell_type": "code",
   "execution_count": null,
   "metadata": {
    "collapsed": false
   },
   "outputs": [],
   "source": [
    "prob = explicit.Koza_3(0.1)\n",
    "print prob['name'], prob['eqn']\n",
    "plt.plot(prob['xpts'][0], prob['ypure'], 'r.')\n",
    "plt.show()\n",
    "\n",
    "plt.plot(prob['xpts'][0], prob['ypts'], 'b.')\n",
    "plt.show()"
   ]
  },
  {
   "cell_type": "code",
   "execution_count": null,
   "metadata": {
    "collapsed": false
   },
   "outputs": [],
   "source": [
    "prob = explicit.Lipson_1(0.1)\n",
    "print prob['name'], prob['eqn']\n",
    "plt.plot(prob['xpts'][0], prob['ypure'], 'r.')\n",
    "plt.show()\n",
    "\n",
    "plt.plot(prob['xpts'][0], prob['ypts'], 'b.')\n",
    "plt.show()"
   ]
  },
  {
   "cell_type": "code",
   "execution_count": null,
   "metadata": {
    "collapsed": false
   },
   "outputs": [],
   "source": [
    "prob = explicit.Lipson_2(0.1)\n",
    "print prob['name'], prob['eqn']\n",
    "plt.plot(prob['xpts'][0], prob['ypure'], 'r.')\n",
    "plt.show()\n",
    "\n",
    "plt.plot(prob['xpts'][0], prob['ypts'], 'b.')\n",
    "plt.show()"
   ]
  },
  {
   "cell_type": "code",
   "execution_count": null,
   "metadata": {
    "collapsed": false
   },
   "outputs": [],
   "source": [
    "prob = explicit.Lipson_3(0.1)\n",
    "print prob['name'], prob['eqn']\n",
    "plt.plot(prob['xpts'][0], prob['ypure'], 'r.')\n",
    "plt.show()\n",
    "\n",
    "plt.plot(prob['xpts'][0], prob['ypts'], 'b.')\n",
    "plt.show()"
   ]
  },
  {
   "cell_type": "code",
   "execution_count": null,
   "metadata": {
    "collapsed": false
   },
   "outputs": [],
   "source": [
    "prob = explicit.Nguyen_01(0.1)\n",
    "print prob['name'], prob['eqn']\n",
    "plt.plot(prob['xpts'][0], prob['ypure'], 'r.')\n",
    "plt.show()\n",
    "\n",
    "plt.plot(prob['xpts'][0], prob['ypts'], 'b.')\n",
    "plt.show()"
   ]
  },
  {
   "cell_type": "code",
   "execution_count": null,
   "metadata": {
    "collapsed": false
   },
   "outputs": [],
   "source": [
    "prob = explicit.Nguyen_02(0.1)\n",
    "print prob['name'], prob['eqn']\n",
    "plt.plot(prob['xpts'][0], prob['ypure'], 'r.')\n",
    "plt.show()\n",
    "\n",
    "plt.plot(prob['xpts'][0], prob['ypts'], 'b.')\n",
    "plt.show()"
   ]
  },
  {
   "cell_type": "code",
   "execution_count": null,
   "metadata": {
    "collapsed": false
   },
   "outputs": [],
   "source": [
    "prob = explicit.Nguyen_03(0.1)\n",
    "print prob['name'], prob['eqn']\n",
    "plt.plot(prob['xpts'][0], prob['ypure'], 'r.')\n",
    "plt.show()\n",
    "\n",
    "plt.plot(prob['xpts'][0], prob['ypts'], 'b.')\n",
    "plt.show()"
   ]
  },
  {
   "cell_type": "code",
   "execution_count": null,
   "metadata": {
    "collapsed": false
   },
   "outputs": [],
   "source": [
    "prob = explicit.Nguyen_04(0.1)\n",
    "print prob['name'], prob['eqn']\n",
    "plt.plot(prob['xpts'][0], prob['ypure'], 'r.')\n",
    "plt.show()\n",
    "\n",
    "plt.plot(prob['xpts'][0], prob['ypts'], 'b.')\n",
    "plt.show()"
   ]
  },
  {
   "cell_type": "code",
   "execution_count": null,
   "metadata": {
    "collapsed": false
   },
   "outputs": [],
   "source": [
    "prob = explicit.Nguyen_05(0.1)\n",
    "print prob['name'], prob['eqn']\n",
    "plt.plot(prob['xpts'][0], prob['ypure'], 'r.')\n",
    "plt.show()\n",
    "\n",
    "plt.plot(prob['xpts'][0], prob['ypts'], 'b.')\n",
    "plt.show()"
   ]
  },
  {
   "cell_type": "code",
   "execution_count": null,
   "metadata": {
    "collapsed": false
   },
   "outputs": [],
   "source": [
    "prob = explicit.Nguyen_06(0.1)\n",
    "print prob['name'], prob['eqn']\n",
    "plt.plot(prob['xpts'][0], prob['ypure'], 'r.')\n",
    "plt.show()\n",
    "\n",
    "plt.plot(prob['xpts'][0], prob['ypts'], 'b.')\n",
    "plt.show()"
   ]
  },
  {
   "cell_type": "code",
   "execution_count": null,
   "metadata": {
    "collapsed": false
   },
   "outputs": [],
   "source": [
    "prob = explicit.Nguyen_07(0.1)\n",
    "print prob['name'], prob['eqn']\n",
    "plt.plot(prob['xpts'][0], prob['ypure'], 'r.')\n",
    "plt.show()\n",
    "\n",
    "plt.plot(prob['xpts'][0], prob['ypts'], 'b.')\n",
    "plt.show()"
   ]
  },
  {
   "cell_type": "code",
   "execution_count": null,
   "metadata": {
    "collapsed": false
   },
   "outputs": [],
   "source": [
    "prob = explicit.Nguyen_08(0.1)\n",
    "print prob['name'], prob['eqn']\n",
    "plt.plot(prob['xpts'][0], prob['ypure'], 'r.')\n",
    "plt.show()\n",
    "\n",
    "plt.plot(prob['xpts'][0], prob['ypts'], 'b.')\n",
    "plt.show()"
   ]
  },
  {
   "cell_type": "code",
   "execution_count": null,
   "metadata": {
    "collapsed": false
   },
   "outputs": [],
   "source": [
    "prob = explicit.Nguyen_09(0.1)\n",
    "print prob['name'], prob['eqn']\n",
    "\n",
    "xs = prob['xpts'][0]\n",
    "ys = prob['xpts'][1]\n",
    "zs = prob['ypts']\n",
    "\n",
    "fig = plt.figure()\n",
    "ax = fig.add_subplot(111, projection='3d')\n",
    "ax.scatter(xs, ys, zs, c='b', marker='.')\n",
    "\n",
    "ax.set_xlabel('X Label')\n",
    "ax.set_ylabel('Y Label')\n",
    "ax.set_zlabel('Z Label')\n",
    "plt.show()\n",
    "\n",
    "plt.plot(prob['xpts'][0], prob['ypts'], 'r.')\n",
    "plt.show()\n",
    "\n",
    "plt.plot(prob['xpts'][1], prob['ypts'], 'b.')\n",
    "plt.show()\n"
   ]
  },
  {
   "cell_type": "code",
   "execution_count": null,
   "metadata": {
    "collapsed": false
   },
   "outputs": [],
   "source": [
    "prob = explicit.Nguyen_10(0.1)\n",
    "print prob['name'], prob['eqn']\n",
    "\n",
    "xs = prob['xpts'][0]\n",
    "ys = prob['xpts'][1]\n",
    "zs = prob['ypts']\n",
    "\n",
    "fig = plt.figure()\n",
    "ax = fig.add_subplot(111, projection='3d')\n",
    "ax.scatter(xs, ys, zs, c='b', marker='.')\n",
    "\n",
    "ax.set_xlabel('X Label')\n",
    "ax.set_ylabel('Y Label')\n",
    "ax.set_zlabel('Z Label')\n",
    "plt.show()\n",
    "\n",
    "plt.plot(prob['xpts'][0], prob['ypts'], 'r.')\n",
    "plt.show()\n",
    "\n",
    "plt.plot(prob['xpts'][1], prob['ypts'], 'b.')\n",
    "plt.show()\n"
   ]
  },
  {
   "cell_type": "code",
   "execution_count": null,
   "metadata": {
    "collapsed": false
   },
   "outputs": [],
   "source": [
    "prob = explicit.Nguyen_11(0.1)\n",
    "print prob['name'], prob['eqn']\n",
    "\n",
    "xs = prob['xpts'][0]\n",
    "ys = prob['xpts'][1]\n",
    "zs = prob['ypts']\n",
    "\n",
    "fig = plt.figure()\n",
    "ax = fig.add_subplot(111, projection='3d')\n",
    "ax.scatter(xs, ys, zs, c='b', marker='.')\n",
    "\n",
    "ax.set_xlabel('X Label')\n",
    "ax.set_ylabel('Y Label')\n",
    "ax.set_zlabel('Z Label')\n",
    "plt.show()\n",
    "\n",
    "plt.plot(prob['xpts'][0], prob['ypts'], 'r.')\n",
    "plt.show()\n",
    "\n",
    "plt.plot(prob['xpts'][1], prob['ypts'], 'b.')\n",
    "plt.show()\n"
   ]
  },
  {
   "cell_type": "code",
   "execution_count": null,
   "metadata": {
    "collapsed": false
   },
   "outputs": [],
   "source": [
    "prob = explicit.Nguyen_12(0.1)\n",
    "print prob['name'], prob['eqn']\n",
    "\n",
    "xs = prob['xpts'][0]\n",
    "ys = prob['xpts'][1]\n",
    "zs = prob['ypts']\n",
    "\n",
    "fig = plt.figure()\n",
    "ax = fig.add_subplot(111, projection='3d')\n",
    "ax.scatter(xs, ys, zs, c='b', marker='.')\n",
    "\n",
    "ax.set_xlabel('X Label')\n",
    "ax.set_ylabel('Y Label')\n",
    "ax.set_zlabel('Z Label')\n",
    "plt.show()\n",
    "\n",
    "plt.plot(prob['xpts'][0], prob['ypts'], 'r.')\n",
    "plt.show()\n",
    "\n",
    "plt.plot(prob['xpts'][1], prob['ypts'], 'b.')\n",
    "plt.show()\n"
   ]
  },
  {
   "cell_type": "code",
   "execution_count": null,
   "metadata": {
    "collapsed": false
   },
   "outputs": [],
   "source": [
    "prob = explicit.Pagie_1(0.1)\n",
    "print prob['name'], prob['eqn']\n",
    "\n",
    "xs = prob['xpts'][0]\n",
    "ys = prob['xpts'][1]\n",
    "zs = prob['ypts']\n",
    "\n",
    "fig = plt.figure()\n",
    "ax = fig.add_subplot(111, projection='3d')\n",
    "ax.scatter(xs, ys, zs, c='b', marker='.')\n",
    "\n",
    "ax.set_xlabel('X Label')\n",
    "ax.set_ylabel('Y Label')\n",
    "ax.set_zlabel('Z Label')\n",
    "plt.show()\n",
    "\n",
    "plt.plot(prob['xpts'][0], prob['ypts'], 'r.')\n",
    "plt.show()\n",
    "\n",
    "plt.plot(prob['xpts'][1], prob['ypts'], 'b.')\n",
    "plt.show()\n"
   ]
  }
 ],
 "metadata": {
  "kernelspec": {
   "display_name": "Python 2",
   "language": "python",
   "name": "python2"
  },
  "language_info": {
   "codemirror_mode": {
    "name": "ipython",
    "version": 2
   },
   "file_extension": ".py",
   "mimetype": "text/x-python",
   "name": "python",
   "nbconvert_exporter": "python",
   "pygments_lexer": "ipython2",
   "version": "2.7.10"
  }
 },
 "nbformat": 4,
 "nbformat_minor": 0
}
