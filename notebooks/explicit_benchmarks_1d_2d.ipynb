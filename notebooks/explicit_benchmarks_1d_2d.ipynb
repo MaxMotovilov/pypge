{
 "cells": [
  {
   "cell_type": "code",
   "execution_count": null,
   "metadata": {
    "collapsed": false
   },
   "outputs": [],
   "source": [
    "%load_ext autoreload\n",
    "%autoreload 2"
   ]
  },
  {
   "cell_type": "code",
   "execution_count": null,
   "metadata": {
    "collapsed": false
   },
   "outputs": [],
   "source": [
    "from pypge.search import PGE\n",
    "import pypge.expand\n",
    "from pypge.benchmarks import explicit\n",
    "\n",
    "\n",
    "# visualization libraries\n",
    "import matplotlib.pyplot as plt\n",
    "from mpl_toolkits.mplot3d import Axes3D\n",
    "\n",
    "# plot the visuals in ipython\n",
    "%matplotlib inline\n",
    "\n",
    "# fun\n",
    "# _ = plt.xkcd()\n",
    "\n"
   ]
  },
  {
   "cell_type": "code",
   "execution_count": null,
   "metadata": {
    "collapsed": false
   },
   "outputs": [],
   "source": [
    "xs_ranges = []\n",
    "xs_ranges.append( (-4.0,4.0) )\n",
    "\n",
    "prob = explicit.Koza_1(xs_ranges, 200,0.1)\n",
    "print prob['name'], prob['eqn']\n",
    "plt.plot(prob['xpts'][0], prob['ypure'], 'ro')\n",
    "plt.show()\n",
    "\n",
    "plt.plot(prob['xpts'][0], prob['ypts'], 'bo')\n",
    "plt.show()"
   ]
  },
  {
   "cell_type": "code",
   "execution_count": null,
   "metadata": {
    "collapsed": false
   },
   "outputs": [],
   "source": [
    "xs_ranges = []\n",
    "xs_ranges.append( (-4.0,4.0) )\n",
    "\n",
    "prob = explicit.Koza_2(xs_ranges, 200,0.1)\n",
    "print prob['name'], prob['eqn']\n",
    "plt.plot(prob['xpts'][0], prob['ypure'], 'ro')\n",
    "plt.show()\n",
    "\n",
    "plt.plot(prob['xpts'][0], prob['ypts'], 'bo')\n",
    "plt.show()"
   ]
  },
  {
   "cell_type": "code",
   "execution_count": null,
   "metadata": {
    "collapsed": false
   },
   "outputs": [],
   "source": [
    "xs_ranges = []\n",
    "xs_ranges.append( (-4.0,4.0) )\n",
    "\n",
    "prob = explicit.Koza_3(xs_ranges, 200,0.1)\n",
    "print prob['name'], prob['eqn']\n",
    "plt.plot(prob['xpts'][0], prob['ypure'], 'ro')\n",
    "plt.show()\n",
    "\n",
    "plt.plot(prob['xpts'][0], prob['ypts'], 'bo')\n",
    "plt.show()"
   ]
  },
  {
   "cell_type": "code",
   "execution_count": null,
   "metadata": {
    "collapsed": false
   },
   "outputs": [],
   "source": [
    "xs_ranges = []\n",
    "xs_ranges.append( (-5.0,5.0) )\n",
    "\n",
    "prob = explicit.Lipson_1(xs_ranges, 200,0.1)\n",
    "print prob['name'], prob['eqn']\n",
    "plt.plot(prob['xpts'][0], prob['ypure'], 'ro')\n",
    "plt.show()\n",
    "\n",
    "plt.plot(prob['xpts'][0], prob['ypts'], 'bo')\n",
    "plt.show()"
   ]
  },
  {
   "cell_type": "code",
   "execution_count": null,
   "metadata": {
    "collapsed": false
   },
   "outputs": [],
   "source": [
    "xs_ranges = []\n",
    "xs_ranges.append( (-9.7,9.7) )\n",
    "\n",
    "prob = explicit.Lipson_2(xs_ranges, 500,0.1)\n",
    "print prob['name'], prob['eqn']\n",
    "plt.plot(prob['xpts'][0], prob['ypure'], 'ro')\n",
    "plt.show()\n",
    "\n",
    "plt.plot(prob['xpts'][0], prob['ypts'], 'bo')\n",
    "plt.show()"
   ]
  },
  {
   "cell_type": "code",
   "execution_count": null,
   "metadata": {
    "collapsed": false
   },
   "outputs": [],
   "source": [
    "xs_ranges = []\n",
    "xs_ranges.append( (-14.0,14.0) )\n",
    "\n",
    "prob = explicit.Lipson_3(xs_ranges, 500,0.1)\n",
    "print prob['name'], prob['eqn']\n",
    "plt.plot(prob['xpts'][0], prob['ypure'], 'ro')\n",
    "plt.show()\n",
    "\n",
    "plt.plot(prob['xpts'][0], prob['ypts'], 'bo')\n",
    "plt.show()"
   ]
  },
  {
   "cell_type": "code",
   "execution_count": null,
   "metadata": {
    "collapsed": false
   },
   "outputs": [],
   "source": [
    "xs_ranges = []\n",
    "xs_ranges.append( (-5.0,5.0) )\n",
    "\n",
    "prob = explicit.Nguyen_01(xs_ranges, 200,0.1)\n",
    "print prob['name'], prob['eqn']\n",
    "plt.plot(prob['xpts'][0], prob['ypure'], 'ro')\n",
    "plt.show()\n",
    "\n",
    "plt.plot(prob['xpts'][0], prob['ypts'], 'bo')\n",
    "plt.show()"
   ]
  },
  {
   "cell_type": "code",
   "execution_count": null,
   "metadata": {
    "collapsed": false
   },
   "outputs": [],
   "source": [
    "xs_ranges = []\n",
    "xs_ranges.append( (-5.0,5.0) )\n",
    "\n",
    "prob = explicit.Nguyen_02(xs_ranges, 200,0.1)\n",
    "print prob['name'], prob['eqn']\n",
    "plt.plot(prob['xpts'][0], prob['ypure'], 'ro')\n",
    "plt.show()\n",
    "\n",
    "plt.plot(prob['xpts'][0], prob['ypts'], 'bo')\n",
    "plt.show()"
   ]
  },
  {
   "cell_type": "code",
   "execution_count": null,
   "metadata": {
    "collapsed": false
   },
   "outputs": [],
   "source": [
    "xs_ranges = []\n",
    "xs_ranges.append( (-5.0,5.0) )\n",
    "\n",
    "prob = explicit.Nguyen_03(xs_ranges, 200,0.1)\n",
    "print prob['name'], prob['eqn']\n",
    "plt.plot(prob['xpts'][0], prob['ypure'], 'ro')\n",
    "plt.show()\n",
    "\n",
    "plt.plot(prob['xpts'][0], prob['ypts'], 'bo')\n",
    "plt.show()"
   ]
  },
  {
   "cell_type": "code",
   "execution_count": null,
   "metadata": {
    "collapsed": false
   },
   "outputs": [],
   "source": [
    "xs_ranges = []\n",
    "xs_ranges.append( (-5.0,5.0) )\n",
    "\n",
    "prob = explicit.Nguyen_04(xs_ranges, 200,0.1)\n",
    "print prob['name'], prob['eqn']\n",
    "plt.plot(prob['xpts'][0], prob['ypure'], 'ro')\n",
    "plt.show()\n",
    "\n",
    "plt.plot(prob['xpts'][0], prob['ypts'], 'bo')\n",
    "plt.show()"
   ]
  },
  {
   "cell_type": "code",
   "execution_count": null,
   "metadata": {
    "collapsed": false
   },
   "outputs": [],
   "source": [
    "xs_ranges = []\n",
    "xs_ranges.append( (-5.0,5.0) )\n",
    "\n",
    "prob = explicit.Nguyen_05(xs_ranges, 1000,0.1)\n",
    "print prob['name'], prob['eqn']\n",
    "plt.plot(prob['xpts'][0], prob['ypure'], 'r.')\n",
    "plt.show()\n",
    "\n",
    "plt.plot(prob['xpts'][0], prob['ypts'], 'b.')\n",
    "plt.show()"
   ]
  },
  {
   "cell_type": "code",
   "execution_count": null,
   "metadata": {
    "collapsed": false
   },
   "outputs": [],
   "source": [
    "xs_ranges = []\n",
    "xs_ranges.append( (-5.0,5.0) )\n",
    "\n",
    "prob = explicit.Nguyen_06(xs_ranges, 1000,0.1)\n",
    "print prob['name'], prob['eqn']\n",
    "plt.plot(prob['xpts'][0], prob['ypure'], 'r.')\n",
    "plt.show()\n",
    "\n",
    "plt.plot(prob['xpts'][0], prob['ypts'], 'b.')\n",
    "plt.show()"
   ]
  },
  {
   "cell_type": "code",
   "execution_count": null,
   "metadata": {
    "collapsed": false
   },
   "outputs": [],
   "source": [
    "xs_ranges = []\n",
    "xs_ranges.append( (0.0,1000.0) )\n",
    "\n",
    "prob = explicit.Nguyen_07(xs_ranges, 1000,0.1)\n",
    "print prob['name'], prob['eqn']\n",
    "plt.plot(prob['xpts'][0], prob['ypure'], 'r.')\n",
    "plt.show()\n",
    "\n",
    "plt.plot(prob['xpts'][0], prob['ypts'], 'b.')\n",
    "plt.show()"
   ]
  },
  {
   "cell_type": "code",
   "execution_count": null,
   "metadata": {
    "collapsed": false
   },
   "outputs": [],
   "source": [
    "xs_ranges = []\n",
    "xs_ranges.append( (0.001,10000.0) )\n",
    "\n",
    "prob = explicit.Nguyen_08(xs_ranges, 1000,0.1)\n",
    "print prob['name'], prob['eqn']\n",
    "plt.plot(prob['xpts'][0], prob['ypure'], 'r.')\n",
    "plt.show()\n",
    "\n",
    "plt.plot(prob['xpts'][0], prob['ypts'], 'b.')\n",
    "plt.show()"
   ]
  },
  {
   "cell_type": "code",
   "execution_count": null,
   "metadata": {
    "collapsed": false
   },
   "outputs": [],
   "source": [
    "xs_ranges = []\n",
    "xs_ranges.append( (-10.0,10.0) )\n",
    "xs_ranges.append( (-6.0,6.0) )\n",
    "\n",
    "prob = explicit.Nguyen_09(xs_ranges, 1000,0.1)\n",
    "print prob['name'], prob['eqn']\n",
    "\n",
    "xs = prob['xpts'][0]\n",
    "ys = prob['xpts'][1]\n",
    "zs = prob['ypts']\n",
    "\n",
    "fig = plt.figure()\n",
    "ax = fig.add_subplot(111, projection='3d')\n",
    "ax.scatter(xs, ys, zs, c='b', marker='o')\n",
    "\n",
    "ax.set_xlabel('X Label')\n",
    "ax.set_ylabel('Y Label')\n",
    "ax.set_zlabel('Z Label')\n",
    "plt.show()\n",
    "\n",
    "plt.plot(prob['xpts'][0], prob['ypts'], 'ro')\n",
    "plt.show()\n",
    "\n",
    "plt.plot(prob['xpts'][1], prob['ypts'], 'bo')\n",
    "plt.show()\n"
   ]
  },
  {
   "cell_type": "code",
   "execution_count": null,
   "metadata": {
    "collapsed": false
   },
   "outputs": [],
   "source": [
    "xs_ranges = []\n",
    "xs_ranges.append( (-7.0,7.0) )\n",
    "xs_ranges.append( (-7.0,7.0) )\n",
    "\n",
    "prob = explicit.Nguyen_10(xs_ranges, 1000,0.1)\n",
    "print prob['name'], prob['eqn']\n",
    "\n",
    "xs = prob['xpts'][0]\n",
    "ys = prob['xpts'][1]\n",
    "zs = prob['ypts']\n",
    "\n",
    "fig = plt.figure()\n",
    "ax = fig.add_subplot(111, projection='3d')\n",
    "ax.scatter(xs, ys, zs, c='b', marker='o')\n",
    "\n",
    "ax.set_xlabel('X Label')\n",
    "ax.set_ylabel('Y Label')\n",
    "ax.set_zlabel('Z Label')\n",
    "plt.show()\n",
    "\n",
    "plt.plot(prob['xpts'][0], prob['ypts'], 'ro')\n",
    "plt.show()\n",
    "\n",
    "plt.plot(prob['xpts'][1], prob['ypts'], 'bo')\n",
    "plt.show()\n"
   ]
  },
  {
   "cell_type": "code",
   "execution_count": null,
   "metadata": {
    "collapsed": false
   },
   "outputs": [],
   "source": [
    "xs_ranges = []\n",
    "xs_ranges.append( (0.0,4.0) )\n",
    "xs_ranges.append( (1.0,4.0) )\n",
    "\n",
    "prob = explicit.Nguyen_11(xs_ranges, 1000,0.1)\n",
    "print prob['name'], prob['eqn']\n",
    "\n",
    "xs = prob['xpts'][0]\n",
    "ys = prob['xpts'][1]\n",
    "zs = prob['ypts']\n",
    "\n",
    "fig = plt.figure()\n",
    "ax = fig.add_subplot(111, projection='3d')\n",
    "ax.scatter(xs, ys, zs, c='b', marker='o')\n",
    "\n",
    "ax.set_xlabel('X Label')\n",
    "ax.set_ylabel('Y Label')\n",
    "ax.set_zlabel('Z Label')\n",
    "plt.show()\n",
    "\n",
    "plt.plot(prob['xpts'][0], prob['ypts'], 'ro')\n",
    "plt.show()\n",
    "\n",
    "plt.plot(prob['xpts'][1], prob['ypts'], 'bo')\n",
    "plt.show()\n"
   ]
  },
  {
   "cell_type": "code",
   "execution_count": null,
   "metadata": {
    "collapsed": false
   },
   "outputs": [],
   "source": [
    "xs_ranges = []\n",
    "xs_ranges.append( (-8.0,8.0) )\n",
    "xs_ranges.append( (-8.0,8.0) )\n",
    "\n",
    "prob = explicit.Nguyen_12(xs_ranges, 1000,0.1)\n",
    "print prob['name'], prob['eqn']\n",
    "\n",
    "xs = prob['xpts'][0]\n",
    "ys = prob['xpts'][1]\n",
    "zs = prob['ypts']\n",
    "\n",
    "fig = plt.figure()\n",
    "ax = fig.add_subplot(111, projection='3d')\n",
    "ax.scatter(xs, ys, zs, c='b', marker='o')\n",
    "\n",
    "ax.set_xlabel('X Label')\n",
    "ax.set_ylabel('Y Label')\n",
    "ax.set_zlabel('Z Label')\n",
    "plt.show()\n",
    "\n",
    "plt.plot(prob['xpts'][0], prob['ypts'], 'ro')\n",
    "plt.show()\n",
    "\n",
    "plt.plot(prob['xpts'][1], prob['ypts'], 'bo')\n",
    "plt.show()\n"
   ]
  },
  {
   "cell_type": "code",
   "execution_count": null,
   "metadata": {
    "collapsed": false
   },
   "outputs": [],
   "source": [
    "xs_ranges = []\n",
    "xs_ranges.append( (0.0001,3.0) )\n",
    "xs_ranges.append( (0.0001,3.0) )\n",
    "\n",
    "prob = explicit.Pagie_1(xs_ranges, 1000,0.1)\n",
    "print prob['name'], prob['eqn']\n",
    "\n",
    "xs = prob['xpts'][0]\n",
    "ys = prob['xpts'][1]\n",
    "zs = prob['ypts']\n",
    "\n",
    "fig = plt.figure()\n",
    "ax = fig.add_subplot(111, projection='3d')\n",
    "ax.scatter(xs, ys, zs, c='b', marker='o')\n",
    "\n",
    "ax.set_xlabel('X Label')\n",
    "ax.set_ylabel('Y Label')\n",
    "ax.set_zlabel('Z Label')\n",
    "plt.show()\n",
    "\n",
    "plt.plot(prob['xpts'][0], prob['ypts'], 'ro')\n",
    "plt.show()\n",
    "\n",
    "plt.plot(prob['xpts'][1], prob['ypts'], 'bo')\n",
    "plt.show()\n"
   ]
  }
 ],
 "metadata": {
  "kernelspec": {
   "display_name": "Python 2",
   "language": "python",
   "name": "python2"
  },
  "language_info": {
   "codemirror_mode": {
    "name": "ipython",
    "version": 2
   },
   "file_extension": ".py",
   "mimetype": "text/x-python",
   "name": "python",
   "nbconvert_exporter": "python",
   "pygments_lexer": "ipython2",
   "version": "2.7.10"
  }
 },
 "nbformat": 4,
 "nbformat_minor": 0
}
