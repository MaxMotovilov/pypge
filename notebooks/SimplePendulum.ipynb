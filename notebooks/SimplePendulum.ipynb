{
 "cells": [
  {
   "cell_type": "code",
   "execution_count": null,
   "metadata": {
    "collapsed": false
   },
   "outputs": [],
   "source": [
    "import numpy as np\n",
    "\n",
    "# import some data\n",
    "from pypge.benchmarks import diffeq\n",
    "\n",
    "# visualization libraries\n",
    "import matplotlib.pyplot as plt\n",
    "\n",
    "# plot the visuals in ipython\n",
    "%matplotlib inline"
   ]
  },
  {
   "cell_type": "code",
   "execution_count": null,
   "metadata": {
    "collapsed": false,
    "scrolled": false
   },
   "outputs": [],
   "source": [
    "# default parameters to the Simple pendulum, you may change the uncommented ones\n",
    "params = {\n",
    "#     'name': \"SimplePendulum\",\n",
    "#     'xs_str': [\"A\", \"V\"],\n",
    "    'params': {\n",
    "        \"M\": 1.0,  # Mass of pendulum\n",
    "        \"R\": 1.0   # Length of rod\n",
    "    },\n",
    "#     'eqn_strs': [\n",
    "#         \"V\",               # dA\n",
    "#         \"(-9.8/R)*sin(A)\"  # dV\n",
    "#     ],\n",
    "    'init_conds': {\n",
    "        \"A\": 2.0,\n",
    "        \"V\": 2.0\n",
    "    },\n",
    "    'time_end': 10.0,\n",
    "    'time_step': 0.01,\n",
    "    'noise': 0.1\n",
    "}\n",
    "\n",
    "# This returns the params object with more fields for Data and sympy objects\n",
    "PROB = diffeq.SimplePendulum(params=params)\n",
    "\n",
    "t_pts = PROB['time_pts']\n",
    "x_pts = PROB['xs_pts']\n",
    "p_pts = PROB['xs_pure']\n",
    "\n",
    "print PROB['name']\n",
    "for i,dx in enumerate(PROB['dxs_str']):\n",
    "    print \"  {:<4s} =  {:s}\".format(dx,PROB['eqn_strs'][i])\n",
    "\n",
    "# With Noise, Plot velocity & angle as a function of time\n",
    "fig, ax1 = plt.subplots()\n",
    "ax2 = ax1.twinx()\n",
    "ax1.plot(t_pts, x_pts[0], 'g')\n",
    "ax2.plot(t_pts, x_pts[1])\n",
    "\n",
    "ax1.set_xlabel('time')\n",
    "ax1.set_ylabel('velocity (blue)')\n",
    "ax2.set_ylabel('angle (green)')\n",
    "\n",
    "plt.show()\n",
    "\n",
    "# No Noise, Plot velocity & angle as a function of time\n",
    "fig, ax1 = plt.subplots()\n",
    "ax2 = ax1.twinx()\n",
    "ax1.plot(t_pts, p_pts[0], 'g')\n",
    "ax2.plot(t_pts, p_pts[1])\n",
    "\n",
    "ax1.set_xlabel('time')\n",
    "ax1.set_ylabel('velocity (blue)')\n",
    "ax2.set_ylabel('angle (green)')\n",
    "\n",
    "plt.show()"
   ]
  },
  {
   "cell_type": "code",
   "execution_count": null,
   "metadata": {
    "collapsed": false,
    "scrolled": false
   },
   "outputs": [],
   "source": [
    "# Since we want a diffeq, we need to calc numerical derivatives\n",
    "# [explain why eval on numerical derivative data]\n",
    "dt_pts = np.gradient(t_pts, edge_order=2)\n",
    "dp_pts = np.gradient(p_pts,dt_pts,edge_order=2)[1]\n",
    "\n",
    "# But first need to smooth out the \"real\" data before learning\n",
    "from scipy.signal import savgol_filter\n",
    "\n",
    "win_sz = 151\n",
    "poly_ord = 7\n",
    "x_pts_sm = savgol_filter(x_pts, win_sz, poly_ord)\n",
    "\n",
    "plt.plot(t_pts,x_pts[1],'b.', ms=3)\n",
    "plt.plot(t_pts,x_pts_sm[1], 'r')\n",
    "plt.show()\n",
    "\n",
    "## numerical derivatives (first order)\n",
    "dx_pts_sm = savgol_filter(x_pts, win_sz, poly_ord, deriv=1, delta=t_pts[1])\n",
    "plt.plot(t_pts,dp_pts[1],'b.', ms=3)\n",
    "plt.plot(t_pts,dx_pts_sm[1], 'r')\n",
    "plt.show()"
   ]
  },
  {
   "cell_type": "code",
   "execution_count": null,
   "metadata": {
    "collapsed": false,
    "scrolled": false
   },
   "outputs": [],
   "source": [
    "# now let's do some Learning\n",
    "# we will search for dV, cause that's the interesting one\n",
    "\n",
    "from pypge.search import PGE\n",
    "from pypge import expand\n",
    "\n",
    "# create the PGE estimator\n",
    "pge = PGE(\n",
    "    system_type = \"diffeq\",\n",
    "    search_vars = \"y\",\n",
    "    usable_vars = PROB['xs_str'],\n",
    "    usable_funcs = expand.BASIC_BASE[1:],\n",
    "    pop_count = 3,\n",
    "    peek_count = 9,\n",
    "    max_iter = 4,\n",
    "    workers = 2\n",
    "    )\n",
    "\n",
    "# A & V are the data values, dV is the y target\n",
    "pge.fit(x_pts_sm, dx_pts_sm[1])\n"
   ]
  },
  {
   "cell_type": "code",
   "execution_count": null,
   "metadata": {
    "collapsed": false
   },
   "outputs": [],
   "source": [
    "paretos = pge.get_final_paretos()\n",
    "\n",
    "finals = [m for front in paretos for m in front]\n",
    "\n",
    "pge_szs = [m.size() for m in finals]\n",
    "pge_scr = [m.score for m in finals]\n",
    "pge_evar = [1.0 - m.evar for m in finals]\n",
    "\n",
    "pge_szs_f = [m.size() for m in paretos[0]]\n",
    "pge_scr_f = [m.score for m in paretos[0]]\n",
    "pge_evar_f = [1.0 - m.evar for m in paretos[0]]\n",
    "\n",
    "plt.plot(pge_szs, pge_scr, 'b.', pge_szs_f, pge_scr_f, 'ro')\n",
    "plt.show()\n",
    "plt.plot(pge_szs, pge_evar, 'b.', pge_szs_f, pge_evar_f, 'ro')\n",
    "plt.show()"
   ]
  },
  {
   "cell_type": "code",
   "execution_count": null,
   "metadata": {
    "collapsed": false,
    "scrolled": false
   },
   "outputs": [],
   "source": [
    "for best_m in paretos[0]:\n",
    "    print best_m\n",
    "    y_pred = best_m.predict(best_m, pge.vars, x_pts)\n",
    "    plt.plot(t_pts, dx_pts_sm[1], 'b.', ms=3)\n",
    "    plt.plot(t_pts, y_pred, 'r')\n",
    "    plt.show()"
   ]
  }
 ],
 "metadata": {
  "kernelspec": {
   "display_name": "Python 2",
   "language": "python",
   "name": "python2"
  },
  "language_info": {
   "codemirror_mode": {
    "name": "ipython",
    "version": 2
   },
   "file_extension": ".py",
   "mimetype": "text/x-python",
   "name": "python",
   "nbconvert_exporter": "python",
   "pygments_lexer": "ipython2",
   "version": "2.7.10"
  }
 },
 "nbformat": 4,
 "nbformat_minor": 0
}
