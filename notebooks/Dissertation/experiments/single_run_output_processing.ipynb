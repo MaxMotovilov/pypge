{
 "cells": [
  {
   "cell_type": "code",
   "execution_count": 1,
   "metadata": {
    "collapsed": true
   },
   "outputs": [],
   "source": [
    "import pandas as pd\n",
    "import numpy as np\n",
    "\n",
    "# visualization libraries\n",
    "import matplotlib.pyplot as plt\n",
    "from matplotlib import gridspec\n",
    "\n",
    "# plot the visuals in ipython\n",
    "%matplotlib inline\n"
   ]
  },
  {
   "cell_type": "code",
   "execution_count": 9,
   "metadata": {
    "collapsed": false
   },
   "outputs": [
    {
     "name": "stdout",
     "output_type": "stream",
     "text": [
      "loaded\n",
      "Index([u'x', u'out'], dtype='object')\n",
      "Index([u'iteration', u'peekd_models', u'evald_models', u'peek_fit_loops',\n",
      "       u'peek_point_evals', u'eval_fit_loops', u'eval_point_evals',\n",
      "       u'total_point_evals', u'best_size', u'best_err', u'best_r2',\n",
      "       u'best_vari', u'ave_size', u'ave_err', u'ave_r2', u'ave_evar'],\n",
      "      dtype='object')\n",
      "Index([u'id', u'sz', u'error', u'r2', u'expld_vari', u'theModel'], dtype='object')\n"
     ]
    }
   ],
   "source": [
    "input_dir = \"/Users/tony/pypge/data/benchmarks/explicit/\"\n",
    "output_dir = \"/Users/tony/pypge/experiments/output/basic/explicit/\"\n",
    "\n",
    "problem_name = \"Koza_01\"\n",
    "prob_out_dir = output_dir + \"clean/\" + problem_name + \"/out/F_linear__I_low__G_low/\"\n",
    "\n",
    "input_file = input_dir + problem_name + \"_clean.csv\"\n",
    "in_df = pd.read_csv(input_file, skipinitialspace=True)\n",
    "\n",
    "err_file = prob_out_dir + \"pge_errs.log\"\n",
    "err_df = pd.read_csv(err_file, delim_whitespace=True)\n",
    "\n",
    "final_file = prob_out_dir + \"pge_final.log\"\n",
    "final_df = pd.read_csv(final_file, skipinitialspace=True)\n",
    "print \"loaded\"\n",
    "\n",
    "print in_df.columns\n",
    "print err_df.columns\n",
    "print final_df.columns"
   ]
  },
  {
   "cell_type": "code",
   "execution_count": 23,
   "metadata": {
    "collapsed": false
   },
   "outputs": [
    {
     "name": "stdout",
     "output_type": "stream",
     "text": [
      "done\n"
     ]
    },
    {
     "data": {
      "image/png": "[encoded data removed]",
      "text/plain": [
       "<matplotlib.figure.Figure at 0x1080d0bd0>"
      ]
     },
     "metadata": {},
     "output_type": "display_data"
    }
   ],
   "source": [
    "final_df.plot(kind=\"scatter\", x=\"sz\", y=\"error\")\n",
    "print \"done\""
   ]
  },
  {
   "cell_type": "code",
   "execution_count": 25,
   "metadata": {
    "collapsed": false
   },
   "outputs": [
    {
     "name": "stdout",
     "output_type": "stream",
     "text": [
      "Index([u'iteration', u'peekd_models', u'evald_models', u'peek_fit_loops',\n",
      "       u'peek_point_evals', u'eval_fit_loops', u'eval_point_evals',\n",
      "       u'total_point_evals', u'best_size', u'best_err', u'best_r2',\n",
      "       u'best_vari', u'ave_size', u'ave_err', u'ave_r2', u'ave_evar'],\n",
      "      dtype='object')\n"
     ]
    },
    {
     "data": {
      "image/png": "[encoded data removed]",
      "text/plain": [
       "<matplotlib.figure.Figure at 0x10725efd0>"
      ]
     },
     "metadata": {},
     "output_type": "display_data"
    }
   ],
   "source": [
    "print err_df.columns\n",
    "err_df['best_err'].plot(logy=True)\n",
    "plt.show()"
   ]
  }
 ],
 "metadata": {
  "kernelspec": {
   "display_name": "Python 2",
   "language": "python",
   "name": "python2"
  },
  "language_info": {
   "codemirror_mode": {
    "name": "ipython",
    "version": 2
   },
   "file_extension": ".py",
   "mimetype": "text/x-python",
   "name": "python",
   "nbconvert_exporter": "python",
   "pygments_lexer": "ipython2",
   "version": "2.7.10"
  }
 },
 "nbformat": 4,
 "nbformat_minor": 0
}
