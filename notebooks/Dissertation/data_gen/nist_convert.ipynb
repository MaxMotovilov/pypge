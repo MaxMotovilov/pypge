{
 "cells": [
  {
   "cell_type": "markdown",
   "metadata": {},
   "source": [
    "# Explicit 1D Benchmarks\n",
    "\n",
    "This file demonstrates how to generate, plot, and output data for 1d benchmarks\n",
    "\n",
    "Choose from:\n",
    "\n",
    "**Linear** \n",
    "\n",
    "1. filip\n",
    "1. longley\n",
    "1. norris\n",
    "1. pontius\n",
    "1. wampler1\n",
    "1. wampler2\n",
    "1. wampler3\n",
    "1. wampler4\n",
    "1. wampler5\n",
    "\n",
    "**Nonlinear**\n",
    "\n",
    "1. bennett5.tsv\n",
    "1. boxbod.tsv\n",
    "1. chwirut1.tsv\n",
    "1. chwirut2.tsv\n",
    "1. danwood.tsv\n",
    "1. eckerle4.tsv\n",
    "1. gauss1.tsv\n",
    "1. gauss2.tsv\n",
    "1. gauss3.tsv\n",
    "1. hahn1.tsv\n",
    "1. kirby2.tsv\n",
    "1. lanczos1.tsv\n",
    "1. lanczos2.tsv\n",
    "1. lanczos3.tsv\n",
    "1. mgh09.tsv\n",
    "1. mgh10.tsv\n",
    "1. mgh17.tsv\n",
    "1. misrala.tsv\n",
    "1. misralb.tsv\n",
    "1. misralc.tsv\n",
    "1. misrald.tsv\n",
    "1. nelson.tsv\n",
    "1. rat42.tsv\n",
    "1. rat43.tsv\n",
    "1. roszman1.tsv\n",
    "1. thurber.tsv\n",
    "\n"
   ]
  },
  {
   "cell_type": "markdown",
   "metadata": {},
   "source": [
    "### Imports"
   ]
  },
  {
   "cell_type": "code",
   "execution_count": 3,
   "metadata": {
    "collapsed": false
   },
   "outputs": [],
   "source": [
    "from pypge.benchmarks import explicit\n",
    "\n",
    "import numpy as np\n",
    "import pandas as pd\n",
    "\n",
    "# visualization libraries\n",
    "import matplotlib.pyplot as plt\n",
    "from mpl_toolkits.mplot3d import Axes3D\n",
    "\n",
    "# plot the visuals in ipython\n",
    "%matplotlib inline\n"
   ]
  },
  {
   "cell_type": "markdown",
   "metadata": {},
   "source": [
    "### Generate the data with noise"
   ]
  },
  {
   "cell_type": "code",
   "execution_count": 11,
   "metadata": {
    "collapsed": false
   },
   "outputs": [
    {
     "data": {
      "text/plain": [
       "<matplotlib.axes._subplots.AxesSubplot at 0x10793fb90>"
      ]
     },
     "execution_count": 11,
     "metadata": {},
     "output_type": "execute_result"
    },
    {
     "data": {
      "image/png": "[encoded data removed]",
      "text/plain": [
       "<matplotlib.figure.Figure at 0x10793fad0>"
      ]
     },
     "metadata": {},
     "output_type": "display_data"
    }
   ],
   "source": [
    "# Set your output directories\n",
    "img_dir = \"../img/benchmarks/nist-linear/\"\n",
    "data_dir = \"../data/benchmarks/nist-linear/\"\n",
    "\n",
    "prob_name = \"filip\"\n",
    "\n",
    "df = pd.read_csv(data_dir + prob_name + \".tsv\", delim_whitespace=True, skipinitialspace=True)\n",
    "df.plot()\n"
   ]
  },
  {
   "cell_type": "markdown",
   "metadata": {},
   "source": [
    "### Plot inline and save image"
   ]
  },
  {
   "cell_type": "code",
   "execution_count": null,
   "metadata": {
    "collapsed": false
   },
   "outputs": [],
   "source": [
    "print prob['name'], prob['eqn']\n",
    "print prob['xpts'].shape\n",
    "\n",
    "fig = plt.figure()\n",
    "fig.set_size_inches(16, 12)\n",
    "\n",
    "plt.plot(prob['xpts'][0], prob['ypure'], 'r.')\n",
    "plt.legend(loc='center left', bbox_to_anchor=(0.67, 0.12))\n",
    "\n",
    "plt.title(prob['name'] + \" Clean\", fontsize=36)\n",
    "plt.savefig(img_dir + prob['name'].lower() + \"_clean.png\", dpi=200)\n",
    "# plt.show()\n",
    "\n",
    "### You can only do one of 'savefig()' or 'show()'\n",
    "\n",
    "fig = plt.figure()\n",
    "fig.set_size_inches(16, 12)\n",
    "\n",
    "plt.plot(prob['xpts'][0], prob['ypts'], 'b.')\n",
    "plt.legend(loc='center left', bbox_to_anchor=(0.67, 0.12))\n",
    "\n",
    "plt.title(prob['name'] + \" Noisy\", fontsize=36)\n",
    "plt.savefig(img_dir + prob['name'].lower() + \"_noisy.png\", dpi=200)\n",
    "# plt.show()\n"
   ]
  },
  {
   "cell_type": "markdown",
   "metadata": {},
   "source": [
    "### Output json and csv data"
   ]
  },
  {
   "cell_type": "code",
   "execution_count": null,
   "metadata": {
    "collapsed": false
   },
   "outputs": [],
   "source": [
    "data = np.array([prob['xpts'][0], prob['ypts']]).T\n",
    "print data.shape\n",
    "\n",
    "cols = [['x', 'out']]\n",
    "out_data = cols + data.tolist()\n",
    "import json\n",
    "json_out = json.dumps( out_data, indent=4)\n",
    "# print json_out\n",
    "\n",
    "f_json = open(data_dir + prob['name'].lower() + \".json\", 'w')\n",
    "f_json.write(json_out)\n",
    "f_json.close()\n",
    "\n",
    "f_csv = open(data_dir + prob['name'].lower() + \".csv\", 'w')\n",
    "for row in out_data:\n",
    "    line = \", \".join([str(col) for col in row]) + \"\\n\"\n",
    "    f_csv.write(line)\n",
    "f_csv.close()"
   ]
  },
  {
   "cell_type": "markdown",
   "metadata": {},
   "source": [
    "### Output *clean* json and csv data"
   ]
  },
  {
   "cell_type": "code",
   "execution_count": null,
   "metadata": {
    "collapsed": false
   },
   "outputs": [],
   "source": [
    "data = np.array([prob['xpts'][0], prob['ypure']]).T\n",
    "print data.shape\n",
    "\n",
    "cols = [['x', 'out']]\n",
    "out_data = cols + data.tolist()\n",
    "import json\n",
    "json_out = json.dumps( out_data, indent=4)\n",
    "# print json_out\n",
    "\n",
    "f_json = open(data_dir + prob['name'].lower() + \"_clean.json\", 'w')\n",
    "f_json.write(json_out)\n",
    "f_json.close()\n",
    "\n",
    "f_csv = open(data_dir + prob['name'].lower() + \"_clean.csv\", 'w')\n",
    "for row in out_data:\n",
    "    line = \", \".join([str(col) for col in row]) + \"\\n\"\n",
    "    f_csv.write(line)\n",
    "f_csv.close()"
   ]
  }
 ],
 "metadata": {
  "kernelspec": {
   "display_name": "Python 2",
   "language": "python",
   "name": "python2"
  },
  "language_info": {
   "codemirror_mode": {
    "name": "ipython",
    "version": 2
   },
   "file_extension": ".py",
   "mimetype": "text/x-python",
   "name": "python",
   "nbconvert_exporter": "python",
   "pygments_lexer": "ipython2",
   "version": "2.7.10"
  }
 },
 "nbformat": 4,
 "nbformat_minor": 0
}
