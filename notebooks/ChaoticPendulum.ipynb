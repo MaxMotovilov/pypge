{
 "cells": [
  {
   "cell_type": "code",
   "execution_count": null,
   "metadata": {
    "collapsed": false
   },
   "outputs": [],
   "source": [
    "import numpy as np\n",
    "\n",
    "# import some data\n",
    "from pypge.benchmarks import diffeq\n",
    "\n",
    "# visualization libraries\n",
    "import matplotlib.pyplot as plt\n",
    "\n",
    "# plot the visuals in ipython\n",
    "%matplotlib inline"
   ]
  },
  {
   "cell_type": "code",
   "execution_count": null,
   "metadata": {
    "collapsed": false,
    "scrolled": false
   },
   "outputs": [],
   "source": [
    "# default parameters to the Chaotic pendulum\n",
    "params = {\n",
    "    'name': \"ChaoticPendulum\",\n",
    "    'xs_str': [\"A\", \"V\"],\n",
    "    'params': {\n",
    "        \"M\": 1.0,   # Mass of pendulum\n",
    "        \"R\": 1.0,   # Length of rod\n",
    "        \"a\": 5.0,   # Amplitude of driving force\n",
    "        \"b\": 0.05,   # Damping (friction) constant\n",
    "        \"k\": 0.65,  # constant related to frequency of driving force\n",
    "        \"g\": 9.81   # Gravity constant (let's got to the moon! [1.62])\n",
    "    },\n",
    "    'eqn_strs': [\n",
    "        \"V\",\n",
    "        \"(-g/R)*sin(A) + (-b*V + a*cos(k*T) ) / (M*R**2)\"\n",
    "    ],\n",
    "    'init_conds': {\n",
    "        \"A\": 0.0,\n",
    "        \"V\": 0.0\n",
    "    },\n",
    "    'time_end': 50.0,\n",
    "    'time_step': 0.05,\n",
    "    'noise': 0.05\n",
    "}\n",
    "\n",
    "# This returns the params object with more fields for Data and sympy objects\n",
    "PROB = diffeq.ChaoticPendulum(**params)\n",
    "\n",
    "t_pts = PROB['time_pts']\n",
    "x_pts = PROB['xs_pts']\n",
    "p_pts = PROB['xs_pure']\n",
    "\n",
    "print PROB['name']\n",
    "for i,dx in enumerate(PROB['dxs_str']):\n",
    "    print \"  {:<4s} =  {:s}\".format(dx,PROB['eqn_strs'][i])\n",
    "\n",
    "# With Noise, Plot velocity & angle as a function of time\n",
    "fig, ax1 = plt.subplots()\n",
    "ax2 = ax1.twinx()\n",
    "ax1.plot(t_pts, x_pts[0])\n",
    "ax2.plot(t_pts, x_pts[1], 'g')\n",
    "\n",
    "ax1.set_xlabel('time')\n",
    "ax1.set_ylabel('velocity (blue)')\n",
    "ax2.set_ylabel('angle (green)')\n",
    "\n",
    "plt.show()\n",
    "\n",
    "# No Noise, Plot velocity & angle as a function of time\n",
    "fig, ax1 = plt.subplots()\n",
    "ax2 = ax1.twinx()\n",
    "ax1.plot(t_pts, p_pts[0])\n",
    "ax2.plot(t_pts, p_pts[1], 'g')\n",
    "\n",
    "ax1.set_xlabel('time')\n",
    "ax1.set_ylabel('velocity (blue)')\n",
    "ax2.set_ylabel('angle (green)')\n",
    "\n",
    "plt.show()"
   ]
  },
  {
   "cell_type": "code",
   "execution_count": null,
   "metadata": {
    "collapsed": false,
    "scrolled": false
   },
   "outputs": [],
   "source": [
    "# Since we want a diffeq, we need to calc numerical derivatives\n",
    "# [explain why eval on numerical derivative data]\n",
    "dt_pts = np.gradient(t_pts, edge_order=2)\n",
    "dp_pts = np.gradient(p_pts,dt_pts,edge_order=2)[1]\n",
    "\n",
    "# But first need to smooth out the \"real\" data before learning\n",
    "from scipy.signal import savgol_filter\n",
    "\n",
    "win_sz = 51\n",
    "poly_ord = 7\n",
    "x_pts_sm = savgol_filter(x_pts, win_sz, poly_ord)\n",
    "\n",
    "plt.plot(t_pts,x_pts[1],'b.', ms=3)\n",
    "plt.plot(t_pts,x_pts_sm[1], 'r')\n",
    "plt.show()\n",
    "\n",
    "## numerical derivatives (first order)\n",
    "win_sz = 51\n",
    "poly_ord = 7\n",
    "dx_pts_sm = savgol_filter(x_pts, win_sz, poly_ord, deriv=1, delta=t_pts[1])\n",
    "\n",
    "plt.plot(t_pts,dp_pts[1],'b.', ms=3)\n",
    "plt.plot(t_pts,dx_pts_sm[1], 'r')\n",
    "plt.show()"
   ]
  },
  {
   "cell_type": "code",
   "execution_count": null,
   "metadata": {
    "collapsed": false,
    "scrolled": false
   },
   "outputs": [],
   "source": [
    "# now let's do some Learning\n",
    "# we will search for dV, cause that's the interesting one\n",
    "\n",
    "from pypge.search import PGE\n",
    "from pypge import expand\n",
    "\n",
    "# create the PGE estimator\n",
    "pge = PGE(\n",
    "    system_type = \"diffeq\",\n",
    "    search_vars = \"y\",\n",
    "    usable_vars = PROB['xs_str'] +  [\"T\"],\n",
    "    usable_funcs = expand.BASIC_BASE[1:],\n",
    "    pop_count = 3,\n",
    "    peek_count = 9,\n",
    "    peek_npts = 200,\n",
    "    max_iter = 50,\n",
    "    workers = 1\n",
    "    )\n",
    "\n",
    "# Need to include time here\n",
    "\n",
    "# (A,V,T) are the data values, dV is the y target\n",
    "tt_pts = t_pts.reshape(1,len(t_pts))\n",
    "print x_pts_sm.shape, tt_pts.shape\n",
    "all_data = np.append(x_pts_sm, tt_pts, 0)\n",
    "pge.fit(all_data[:,1:], dx_pts_sm[1,1:])\n"
   ]
  },
  {
   "cell_type": "code",
   "execution_count": null,
   "metadata": {
    "collapsed": false
   },
   "outputs": [],
   "source": [
    "#  dV   =  (-g/R)*sin(A) + (-b*V + a*cos(k*T) ) / (M*R**2)\n",
    "#  looks like   a*sin(A) - b*V + c*cos(d*T)\n",
    "paretos = pge.get_final_paretos()\n",
    "\n",
    "finals = [m for front in paretos for m in front]\n",
    "\n",
    "pge_szs = [m.size() for m in finals]\n",
    "pge_scr = [m.score for m in finals]\n",
    "pge_evar = [1.0 - m.evar for m in finals]\n",
    "\n",
    "pge_szs_f = [m.size() for m in paretos[0]]\n",
    "pge_scr_f = [m.score for m in paretos[0]]\n",
    "pge_evar_f = [1.0 - m.evar for m in paretos[0]]\n",
    "\n",
    "plt.plot(pge_szs, pge_scr, 'b.', pge_szs_f, pge_scr_f, 'ro')\n",
    "plt.show()\n",
    "plt.plot(pge_szs, pge_evar, 'b.', pge_szs_f, pge_evar_f, 'ro')\n",
    "plt.show()"
   ]
  },
  {
   "cell_type": "code",
   "execution_count": null,
   "metadata": {
    "collapsed": false,
    "scrolled": false
   },
   "outputs": [],
   "source": [
    "for best_m in paretos[0]:\n",
    "    print best_m\n",
    "    y_pred = best_m.predict(best_m, pge.vars, all_data)\n",
    "    plt.plot(t_pts, dx_pts_sm[1], 'b.', ms=3)\n",
    "    plt.plot(t_pts, y_pred, 'r')\n",
    "    plt.show()"
   ]
  }
 ],
 "metadata": {
  "kernelspec": {
   "display_name": "Python 2",
   "language": "python",
   "name": "python2"
  },
  "language_info": {
   "codemirror_mode": {
    "name": "ipython",
    "version": 2
   },
   "file_extension": ".py",
   "mimetype": "text/x-python",
   "name": "python",
   "nbconvert_exporter": "python",
   "pygments_lexer": "ipython2",
   "version": "2.7.10"
  }
 },
 "nbformat": 4,
 "nbformat_minor": 0
}
