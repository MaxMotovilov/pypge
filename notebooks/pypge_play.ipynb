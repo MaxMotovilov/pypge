{
 "cells": [
  {
   "cell_type": "code",
   "execution_count": null,
   "metadata": {
    "collapsed": false
   },
   "outputs": [],
   "source": [
    "from pypge.search import PGE\n",
    "from pypge import expand\n",
    "from pypge.benchmarks import explicit\n",
    "\n",
    "import numpy as np\n",
    "\n",
    "# visualization libraries\n",
    "import matplotlib.pyplot as plt\n",
    "from mpl_toolkits.mplot3d import Axes3D\n",
    "\n",
    "# plot the visuals in ipython\n",
    "%matplotlib inline\n"
   ]
  },
  {
   "cell_type": "code",
   "execution_count": null,
   "metadata": {
    "collapsed": false
   },
   "outputs": [],
   "source": [
    "prob = explicit.Nguyen_12(0.1)\n",
    "print prob['name'], prob['eqn']\n",
    "print prob['xpts'].shape\n",
    "\n",
    "plt.plot(prob['xpts'][0], prob['ypure'], 'r.')\n",
    "plt.show()\n",
    "plt.plot(prob['xpts'][0], prob['ypts'], 'b.')\n",
    "plt.show()"
   ]
  },
  {
   "cell_type": "code",
   "execution_count": null,
   "metadata": {
    "collapsed": false,
    "scrolled": true
   },
   "outputs": [],
   "source": [
    "pge = PGE(\n",
    "    system_type = \"explicit\",\n",
    "    search_vars = \"y\",\n",
    "    usable_vars = prob['xs_str'],\n",
    "    usable_funcs = expand.BASIC_BASE[1:],\n",
    "    pop_count = 3,\n",
    "    max_iter = 10\n",
    "    )\n",
    "\n",
    "pge.fit(prob['xpts'], prob['ypts'])\n"
   ]
  },
  {
   "cell_type": "code",
   "execution_count": null,
   "metadata": {
    "collapsed": false
   },
   "outputs": [],
   "source": [
    "print len(pge.final)\n",
    "print \"\\n\"\n",
    "for m in pge.final_paretos[0]:\n",
    "    print m"
   ]
  },
  {
   "cell_type": "code",
   "execution_count": null,
   "metadata": {
    "collapsed": false
   },
   "outputs": [],
   "source": [
    "pge_szs = [m.size() for m in pge.final]\n",
    "pge_scr = [m.score for m in pge.final]\n",
    "pge_evar = [1.0 - m.evar for m in pge.final]\n",
    "\n",
    "pge_szs_f = [m.size() for m in pge.final_paretos[0]]\n",
    "pge_scr_f = [m.score for m in pge.final_paretos[0]]\n",
    "pge_evar_f = [1.0 - m.evar for m in pge.final_paretos[0]]\n",
    "\n",
    "plt.plot(pge_szs, pge_scr, 'b.', pge_szs_f, pge_scr_f, 'ro')\n",
    "plt.show()\n",
    "plt.plot(pge_szs, pge_evar, 'b.', pge_szs_f, pge_evar_f, 'ro')\n",
    "plt.show()"
   ]
  },
  {
   "cell_type": "code",
   "execution_count": null,
   "metadata": {
    "collapsed": false,
    "scrolled": false
   },
   "outputs": [],
   "source": [
    "from pypge.evaluate import Eval\n",
    "\n",
    "for best_m in pge.final_paretos[0]:\n",
    "    print best_m\n",
    "    y_pred = Eval(best_m, pge.vars, prob['xpts'])\n",
    "    plt.plot(prob['xpts'][0], prob['ypts'], 'r.',prob['xpts'][0], y_pred, 'b.')\n",
    "    plt.show()\n"
   ]
  },
  {
   "cell_type": "code",
   "execution_count": null,
   "metadata": {
    "collapsed": false,
    "scrolled": true
   },
   "outputs": [],
   "source": [
    "from sympy import *\n",
    "\n",
    "import networkx as nx\n",
    "G = pge.graph\n",
    "n_nodes = G.number_of_nodes()\n",
    "n_edges = G.number_of_edges()\n",
    "print n_nodes, n_edges\n",
    "\n",
    "print nx.info(G)\n",
    "\n",
    "print nx.density(G)\n",
    "\n",
    "bins = nx.degree_histogram(G)\n",
    "\n",
    "\n",
    "# pos=nx.graphviz_layout(G,prog=\"twopi\",root=pge.root_model)\n",
    "# nx.draw_networkx(G,pos,with_labels=False,node_size=30)\n",
    "# nx.draw_circular(G,with_labels=False,node_size=30)\n",
    "\n",
    "# pos=nx.shell_layout(G,pge.iter_expands)\n",
    "# nx.draw_networkx(G,pos,with_labels=False,node_size=30)\n",
    "\n",
    "plt.yscale('log')\n",
    "plt.bar(range(0,len(bins)),bins)\n",
    "plt.draw()\n"
   ]
  }
 ],
 "metadata": {
  "kernelspec": {
   "display_name": "Python 2",
   "language": "python",
   "name": "python2"
  },
  "language_info": {
   "codemirror_mode": {
    "name": "ipython",
    "version": 2
   },
   "file_extension": ".py",
   "mimetype": "text/x-python",
   "name": "python",
   "nbconvert_exporter": "python",
   "pygments_lexer": "ipython2",
   "version": "2.7.10"
  }
 },
 "nbformat": 4,
 "nbformat_minor": 0
}
